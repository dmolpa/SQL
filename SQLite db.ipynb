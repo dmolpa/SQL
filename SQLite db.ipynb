{
 "cells": [
  {
   "cell_type": "code",
   "execution_count": 3,
   "metadata": {},
   "outputs": [
    {
     "name": "stdout",
     "output_type": "stream",
     "text": [
      "[('item_0', 12, 2.0), ('item_1', 1, 2.0), ('item_2', 3, 4.0)]\n"
     ]
    }
   ],
   "source": [
    "import sqlite3\n",
    "\n",
    "def create_db():\n",
    "    conn = sqlite3.connect(\"sqlite.db\")\n",
    "    cur = conn.cursor()\n",
    "    cur.execute(\"CREATE TABLE IF NOT EXISTS store (item TEXT, quantity INTEGER, price REAL)\")\n",
    "    conn.commit()\n",
    "    conn.close()\n",
    "    \n",
    "def insert_val(item,quantity,price):\n",
    "    '''adds (str,int,float)(item,quantity,price) to DB'''\n",
    "    conn = sqlite3.connect(\"sqlite.db\")\n",
    "    cur = conn.cursor()\n",
    "    cur.execute(\"INSERT INTO store VALUES(?,?,?)\",(item,quantity,price))\n",
    "    conn.commit()\n",
    "    conn.close()\n",
    "    \n",
    "def update(quantity,price,item):\n",
    "    '''updates quantity, price, item in DB'''\n",
    "    conn = sqlite3.connect(\"sqlite.db\")\n",
    "    cur = conn.cursor()\n",
    "    cur.execute(\"UPDATE store SET quantity = ?, price = ? WHERE item = ? \",(quantity,price,item))\n",
    "    conn.commit()\n",
    "    conn.close()\n",
    "    \n",
    "def delete(item):\n",
    "    conn = sqlite3.connect(\"sqlite.db\")\n",
    "    cur = conn.cursor()\n",
    "    cur.execute(\"DELETE FROM store WHERE item=?\",(item,))\n",
    "    conn.commit()\n",
    "    conn.close()\n",
    "\n",
    "def view():\n",
    "    conn = sqlite3.connect(\"sqlite.db\")\n",
    "    cur = conn.cursor()\n",
    "    cur.execute(\"SELECT * FROM store\")\n",
    "    rows = cur.fetchall()\n",
    "    conn.close()\n",
    "    return rows\n",
    "\n",
    "insert_val('item_0',0,0)\n",
    "update(12,2,'item_0')\n",
    "insert_val('item_1',1,2)\n",
    "insert_val('item_2',3,4)\n",
    "insert_val('item_3',0,0)\n",
    "delete(\"item_3\")\n",
    "print(view())"
   ]
  },
  {
   "cell_type": "code",
   "execution_count": null,
   "metadata": {},
   "outputs": [],
   "source": []
  }
 ],
 "metadata": {
  "kernelspec": {
   "display_name": "Python 3",
   "language": "python",
   "name": "python3"
  },
  "language_info": {
   "codemirror_mode": {
    "name": "ipython",
    "version": 3
   },
   "file_extension": ".py",
   "mimetype": "text/x-python",
   "name": "python",
   "nbconvert_exporter": "python",
   "pygments_lexer": "ipython3",
   "version": "3.6.4"
  }
 },
 "nbformat": 4,
 "nbformat_minor": 2
}
